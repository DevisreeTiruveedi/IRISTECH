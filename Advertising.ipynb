{
 "cells": [
  {
   "cell_type": "markdown",
   "id": "ba6cfd28",
   "metadata": {},
   "source": [
    "# Devisree\n",
    "# SALES PREDICTION USING PYTHON"
   ]
  },
  {
   "cell_type": "code",
   "execution_count": 1,
   "id": "9f6184d0",
   "metadata": {},
   "outputs": [],
   "source": [
    "import numpy as np\n",
    "import matplotlib.pyplot as plt\n",
    "import pandas as pd\n",
    "import seaborn as sns"
   ]
  },
  {
   "cell_type": "code",
   "execution_count": 2,
   "id": "7eb26812",
   "metadata": {},
   "outputs": [],
   "source": [
    "import warnings\n",
    "warnings.filterwarnings('ignore')"
   ]
  },
  {
   "cell_type": "markdown",
   "id": "e0203962",
   "metadata": {},
   "source": [
    "### Reading Data"
   ]
  },
  {
   "cell_type": "code",
   "execution_count": 3,
   "id": "57463787",
   "metadata": {},
   "outputs": [],
   "source": [
    "df=pd.read_csv('Advertising.csv')"
   ]
  },
  {
   "cell_type": "code",
   "execution_count": 4,
   "id": "c39dbc54",
   "metadata": {},
   "outputs": [
    {
     "data": {
      "text/html": [
       "<div>\n",
       "<style scoped>\n",
       "    .dataframe tbody tr th:only-of-type {\n",
       "        vertical-align: middle;\n",
       "    }\n",
       "\n",
       "    .dataframe tbody tr th {\n",
       "        vertical-align: top;\n",
       "    }\n",
       "\n",
       "    .dataframe thead th {\n",
       "        text-align: right;\n",
       "    }\n",
       "</style>\n",
       "<table border=\"1\" class=\"dataframe\">\n",
       "  <thead>\n",
       "    <tr style=\"text-align: right;\">\n",
       "      <th></th>\n",
       "      <th>Unnamed: 0</th>\n",
       "      <th>TV</th>\n",
       "      <th>Radio</th>\n",
       "      <th>Newspaper</th>\n",
       "      <th>Sales</th>\n",
       "    </tr>\n",
       "  </thead>\n",
       "  <tbody>\n",
       "    <tr>\n",
       "      <th>0</th>\n",
       "      <td>1</td>\n",
       "      <td>230.1</td>\n",
       "      <td>37.8</td>\n",
       "      <td>69.2</td>\n",
       "      <td>22.1</td>\n",
       "    </tr>\n",
       "    <tr>\n",
       "      <th>1</th>\n",
       "      <td>2</td>\n",
       "      <td>44.5</td>\n",
       "      <td>39.3</td>\n",
       "      <td>45.1</td>\n",
       "      <td>10.4</td>\n",
       "    </tr>\n",
       "    <tr>\n",
       "      <th>2</th>\n",
       "      <td>3</td>\n",
       "      <td>17.2</td>\n",
       "      <td>45.9</td>\n",
       "      <td>69.3</td>\n",
       "      <td>9.3</td>\n",
       "    </tr>\n",
       "    <tr>\n",
       "      <th>3</th>\n",
       "      <td>4</td>\n",
       "      <td>151.5</td>\n",
       "      <td>41.3</td>\n",
       "      <td>58.5</td>\n",
       "      <td>18.5</td>\n",
       "    </tr>\n",
       "    <tr>\n",
       "      <th>4</th>\n",
       "      <td>5</td>\n",
       "      <td>180.8</td>\n",
       "      <td>10.8</td>\n",
       "      <td>58.4</td>\n",
       "      <td>12.9</td>\n",
       "    </tr>\n",
       "  </tbody>\n",
       "</table>\n",
       "</div>"
      ],
      "text/plain": [
       "   Unnamed: 0     TV  Radio  Newspaper  Sales\n",
       "0           1  230.1   37.8       69.2   22.1\n",
       "1           2   44.5   39.3       45.1   10.4\n",
       "2           3   17.2   45.9       69.3    9.3\n",
       "3           4  151.5   41.3       58.5   18.5\n",
       "4           5  180.8   10.8       58.4   12.9"
      ]
     },
     "execution_count": 4,
     "metadata": {},
     "output_type": "execute_result"
    }
   ],
   "source": [
    "df.head()"
   ]
  },
  {
   "cell_type": "code",
   "execution_count": 5,
   "id": "362890f9",
   "metadata": {},
   "outputs": [
    {
     "data": {
      "text/html": [
       "<div>\n",
       "<style scoped>\n",
       "    .dataframe tbody tr th:only-of-type {\n",
       "        vertical-align: middle;\n",
       "    }\n",
       "\n",
       "    .dataframe tbody tr th {\n",
       "        vertical-align: top;\n",
       "    }\n",
       "\n",
       "    .dataframe thead th {\n",
       "        text-align: right;\n",
       "    }\n",
       "</style>\n",
       "<table border=\"1\" class=\"dataframe\">\n",
       "  <thead>\n",
       "    <tr style=\"text-align: right;\">\n",
       "      <th></th>\n",
       "      <th>Unnamed: 0</th>\n",
       "      <th>TV</th>\n",
       "      <th>Radio</th>\n",
       "      <th>Newspaper</th>\n",
       "      <th>Sales</th>\n",
       "    </tr>\n",
       "  </thead>\n",
       "  <tbody>\n",
       "    <tr>\n",
       "      <th>195</th>\n",
       "      <td>196</td>\n",
       "      <td>38.2</td>\n",
       "      <td>3.7</td>\n",
       "      <td>13.8</td>\n",
       "      <td>7.6</td>\n",
       "    </tr>\n",
       "    <tr>\n",
       "      <th>196</th>\n",
       "      <td>197</td>\n",
       "      <td>94.2</td>\n",
       "      <td>4.9</td>\n",
       "      <td>8.1</td>\n",
       "      <td>9.7</td>\n",
       "    </tr>\n",
       "    <tr>\n",
       "      <th>197</th>\n",
       "      <td>198</td>\n",
       "      <td>177.0</td>\n",
       "      <td>9.3</td>\n",
       "      <td>6.4</td>\n",
       "      <td>12.8</td>\n",
       "    </tr>\n",
       "    <tr>\n",
       "      <th>198</th>\n",
       "      <td>199</td>\n",
       "      <td>283.6</td>\n",
       "      <td>42.0</td>\n",
       "      <td>66.2</td>\n",
       "      <td>25.5</td>\n",
       "    </tr>\n",
       "    <tr>\n",
       "      <th>199</th>\n",
       "      <td>200</td>\n",
       "      <td>232.1</td>\n",
       "      <td>8.6</td>\n",
       "      <td>8.7</td>\n",
       "      <td>13.4</td>\n",
       "    </tr>\n",
       "  </tbody>\n",
       "</table>\n",
       "</div>"
      ],
      "text/plain": [
       "     Unnamed: 0     TV  Radio  Newspaper  Sales\n",
       "195         196   38.2    3.7       13.8    7.6\n",
       "196         197   94.2    4.9        8.1    9.7\n",
       "197         198  177.0    9.3        6.4   12.8\n",
       "198         199  283.6   42.0       66.2   25.5\n",
       "199         200  232.1    8.6        8.7   13.4"
      ]
     },
     "execution_count": 5,
     "metadata": {},
     "output_type": "execute_result"
    }
   ],
   "source": [
    "df.tail()"
   ]
  },
  {
   "cell_type": "code",
   "execution_count": 6,
   "id": "0e8d6343",
   "metadata": {},
   "outputs": [
    {
     "data": {
      "text/html": [
       "<div>\n",
       "<style scoped>\n",
       "    .dataframe tbody tr th:only-of-type {\n",
       "        vertical-align: middle;\n",
       "    }\n",
       "\n",
       "    .dataframe tbody tr th {\n",
       "        vertical-align: top;\n",
       "    }\n",
       "\n",
       "    .dataframe thead th {\n",
       "        text-align: right;\n",
       "    }\n",
       "</style>\n",
       "<table border=\"1\" class=\"dataframe\">\n",
       "  <thead>\n",
       "    <tr style=\"text-align: right;\">\n",
       "      <th></th>\n",
       "      <th>Unnamed: 0</th>\n",
       "      <th>TV</th>\n",
       "      <th>Radio</th>\n",
       "      <th>Newspaper</th>\n",
       "      <th>Sales</th>\n",
       "    </tr>\n",
       "  </thead>\n",
       "  <tbody>\n",
       "    <tr>\n",
       "      <th>count</th>\n",
       "      <td>200.000000</td>\n",
       "      <td>200.000000</td>\n",
       "      <td>200.000000</td>\n",
       "      <td>200.000000</td>\n",
       "      <td>200.000000</td>\n",
       "    </tr>\n",
       "    <tr>\n",
       "      <th>mean</th>\n",
       "      <td>100.500000</td>\n",
       "      <td>147.042500</td>\n",
       "      <td>23.264000</td>\n",
       "      <td>30.554000</td>\n",
       "      <td>14.022500</td>\n",
       "    </tr>\n",
       "    <tr>\n",
       "      <th>std</th>\n",
       "      <td>57.879185</td>\n",
       "      <td>85.854236</td>\n",
       "      <td>14.846809</td>\n",
       "      <td>21.778621</td>\n",
       "      <td>5.217457</td>\n",
       "    </tr>\n",
       "    <tr>\n",
       "      <th>min</th>\n",
       "      <td>1.000000</td>\n",
       "      <td>0.700000</td>\n",
       "      <td>0.000000</td>\n",
       "      <td>0.300000</td>\n",
       "      <td>1.600000</td>\n",
       "    </tr>\n",
       "    <tr>\n",
       "      <th>25%</th>\n",
       "      <td>50.750000</td>\n",
       "      <td>74.375000</td>\n",
       "      <td>9.975000</td>\n",
       "      <td>12.750000</td>\n",
       "      <td>10.375000</td>\n",
       "    </tr>\n",
       "    <tr>\n",
       "      <th>50%</th>\n",
       "      <td>100.500000</td>\n",
       "      <td>149.750000</td>\n",
       "      <td>22.900000</td>\n",
       "      <td>25.750000</td>\n",
       "      <td>12.900000</td>\n",
       "    </tr>\n",
       "    <tr>\n",
       "      <th>75%</th>\n",
       "      <td>150.250000</td>\n",
       "      <td>218.825000</td>\n",
       "      <td>36.525000</td>\n",
       "      <td>45.100000</td>\n",
       "      <td>17.400000</td>\n",
       "    </tr>\n",
       "    <tr>\n",
       "      <th>max</th>\n",
       "      <td>200.000000</td>\n",
       "      <td>296.400000</td>\n",
       "      <td>49.600000</td>\n",
       "      <td>114.000000</td>\n",
       "      <td>27.000000</td>\n",
       "    </tr>\n",
       "  </tbody>\n",
       "</table>\n",
       "</div>"
      ],
      "text/plain": [
       "       Unnamed: 0          TV       Radio   Newspaper       Sales\n",
       "count  200.000000  200.000000  200.000000  200.000000  200.000000\n",
       "mean   100.500000  147.042500   23.264000   30.554000   14.022500\n",
       "std     57.879185   85.854236   14.846809   21.778621    5.217457\n",
       "min      1.000000    0.700000    0.000000    0.300000    1.600000\n",
       "25%     50.750000   74.375000    9.975000   12.750000   10.375000\n",
       "50%    100.500000  149.750000   22.900000   25.750000   12.900000\n",
       "75%    150.250000  218.825000   36.525000   45.100000   17.400000\n",
       "max    200.000000  296.400000   49.600000  114.000000   27.000000"
      ]
     },
     "execution_count": 6,
     "metadata": {},
     "output_type": "execute_result"
    }
   ],
   "source": [
    "df.describe()"
   ]
  },
  {
   "cell_type": "code",
   "execution_count": 7,
   "id": "44153d7a",
   "metadata": {},
   "outputs": [
    {
     "name": "stdout",
     "output_type": "stream",
     "text": [
      "<class 'pandas.core.frame.DataFrame'>\n",
      "RangeIndex: 200 entries, 0 to 199\n",
      "Data columns (total 5 columns):\n",
      " #   Column      Non-Null Count  Dtype  \n",
      "---  ------      --------------  -----  \n",
      " 0   Unnamed: 0  200 non-null    int64  \n",
      " 1   TV          200 non-null    float64\n",
      " 2   Radio       200 non-null    float64\n",
      " 3   Newspaper   200 non-null    float64\n",
      " 4   Sales       200 non-null    float64\n",
      "dtypes: float64(4), int64(1)\n",
      "memory usage: 7.9 KB\n"
     ]
    }
   ],
   "source": [
    "df.info()"
   ]
  },
  {
   "cell_type": "code",
   "execution_count": 8,
   "id": "949fa2b2",
   "metadata": {},
   "outputs": [
    {
     "data": {
      "text/plain": [
       "(200, 5)"
      ]
     },
     "execution_count": 8,
     "metadata": {},
     "output_type": "execute_result"
    }
   ],
   "source": [
    "df.shape"
   ]
  },
  {
   "cell_type": "markdown",
   "id": "00087b3c",
   "metadata": {},
   "source": [
    "### Analysing Data"
   ]
  },
  {
   "cell_type": "code",
   "execution_count": 9,
   "id": "95384e89",
   "metadata": {},
   "outputs": [],
   "source": [
    "df.drop(columns=['Unnamed: 0'],inplace=True)"
   ]
  },
  {
   "cell_type": "code",
   "execution_count": 10,
   "id": "fecd4d3d",
   "metadata": {},
   "outputs": [
    {
     "data": {
      "text/html": [
       "<div>\n",
       "<style scoped>\n",
       "    .dataframe tbody tr th:only-of-type {\n",
       "        vertical-align: middle;\n",
       "    }\n",
       "\n",
       "    .dataframe tbody tr th {\n",
       "        vertical-align: top;\n",
       "    }\n",
       "\n",
       "    .dataframe thead th {\n",
       "        text-align: right;\n",
       "    }\n",
       "</style>\n",
       "<table border=\"1\" class=\"dataframe\">\n",
       "  <thead>\n",
       "    <tr style=\"text-align: right;\">\n",
       "      <th></th>\n",
       "      <th>TV</th>\n",
       "      <th>Radio</th>\n",
       "      <th>Newspaper</th>\n",
       "      <th>Sales</th>\n",
       "    </tr>\n",
       "  </thead>\n",
       "  <tbody>\n",
       "    <tr>\n",
       "      <th>0</th>\n",
       "      <td>230.1</td>\n",
       "      <td>37.8</td>\n",
       "      <td>69.2</td>\n",
       "      <td>22.1</td>\n",
       "    </tr>\n",
       "    <tr>\n",
       "      <th>1</th>\n",
       "      <td>44.5</td>\n",
       "      <td>39.3</td>\n",
       "      <td>45.1</td>\n",
       "      <td>10.4</td>\n",
       "    </tr>\n",
       "    <tr>\n",
       "      <th>2</th>\n",
       "      <td>17.2</td>\n",
       "      <td>45.9</td>\n",
       "      <td>69.3</td>\n",
       "      <td>9.3</td>\n",
       "    </tr>\n",
       "    <tr>\n",
       "      <th>3</th>\n",
       "      <td>151.5</td>\n",
       "      <td>41.3</td>\n",
       "      <td>58.5</td>\n",
       "      <td>18.5</td>\n",
       "    </tr>\n",
       "    <tr>\n",
       "      <th>4</th>\n",
       "      <td>180.8</td>\n",
       "      <td>10.8</td>\n",
       "      <td>58.4</td>\n",
       "      <td>12.9</td>\n",
       "    </tr>\n",
       "  </tbody>\n",
       "</table>\n",
       "</div>"
      ],
      "text/plain": [
       "      TV  Radio  Newspaper  Sales\n",
       "0  230.1   37.8       69.2   22.1\n",
       "1   44.5   39.3       45.1   10.4\n",
       "2   17.2   45.9       69.3    9.3\n",
       "3  151.5   41.3       58.5   18.5\n",
       "4  180.8   10.8       58.4   12.9"
      ]
     },
     "execution_count": 10,
     "metadata": {},
     "output_type": "execute_result"
    }
   ],
   "source": [
    "df.head()"
   ]
  },
  {
   "cell_type": "code",
   "execution_count": 11,
   "id": "136f35d6",
   "metadata": {},
   "outputs": [
    {
     "data": {
      "text/plain": [
       "<seaborn.axisgrid.PairGrid at 0x1d1191f84c0>"
      ]
     },
     "execution_count": 11,
     "metadata": {},
     "output_type": "execute_result"
    },
    {
     "data": {
      "image/png": "[encoded data removed]",
      "text/plain": [
       "<Figure size 588.75x540 with 12 Axes>"
      ]
     },
     "metadata": {
      "needs_background": "light"
     },
     "output_type": "display_data"
    }
   ],
   "source": [
    "sns.pairplot(df,hue='Sales')"
   ]
  },
  {
   "cell_type": "code",
   "execution_count": 12,
   "id": "f49791d8",
   "metadata": {},
   "outputs": [
    {
     "data": {
      "image/png": "[encoded data removed]",
      "text/plain": [
       "<Figure size 720x576 with 2 Axes>"
      ]
     },
     "metadata": {
      "needs_background": "light"
     },
     "output_type": "display_data"
    }
   ],
   "source": [
    "plt.figure(figsize=(10,8))\n",
    "sns.heatmap(df.corr())\n",
    "plt.title(\"Sales rate using Heatmap\")\n",
    "plt.show()"
   ]
  },
  {
   "cell_type": "code",
   "execution_count": 13,
   "id": "b11bd95f",
   "metadata": {},
   "outputs": [],
   "source": [
    "df=df.values\n",
    "X=df[:,:-1]\n",
    "Y=df[:,-1]"
   ]
  },
  {
   "cell_type": "code",
   "execution_count": 14,
   "id": "f9b4e0fc",
   "metadata": {},
   "outputs": [
    {
     "data": {
      "text/plain": [
       "array([[230.1,  37.8,  69.2],\n",
       "       [ 44.5,  39.3,  45.1],\n",
       "       [ 17.2,  45.9,  69.3],\n",
       "       [151.5,  41.3,  58.5],\n",
       "       [180.8,  10.8,  58.4],\n",
       "       [  8.7,  48.9,  75. ],\n",
       "       [ 57.5,  32.8,  23.5],\n",
       "       [120.2,  19.6,  11.6],\n",
       "       [  8.6,   2.1,   1. ],\n",
       "       [199.8,   2.6,  21.2],\n",
       "       [ 66.1,   5.8,  24.2],\n",
       "       [214.7,  24. ,   4. ],\n",
       "       [ 23.8,  35.1,  65.9],\n",
       "       [ 97.5,   7.6,   7.2],\n",
       "       [204.1,  32.9,  46. ],\n",
       "       [195.4,  47.7,  52.9],\n",
       "       [ 67.8,  36.6, 114. ],\n",
       "       [281.4,  39.6,  55.8],\n",
       "       [ 69.2,  20.5,  18.3],\n",
       "       [147.3,  23.9,  19.1],\n",
       "       [218.4,  27.7,  53.4],\n",
       "       [237.4,   5.1,  23.5],\n",
       "       [ 13.2,  15.9,  49.6],\n",
       "       [228.3,  16.9,  26.2],\n",
       "       [ 62.3,  12.6,  18.3],\n",
       "       [262.9,   3.5,  19.5],\n",
       "       [142.9,  29.3,  12.6],\n",
       "       [240.1,  16.7,  22.9],\n",
       "       [248.8,  27.1,  22.9],\n",
       "       [ 70.6,  16. ,  40.8],\n",
       "       [292.9,  28.3,  43.2],\n",
       "       [112.9,  17.4,  38.6],\n",
       "       [ 97.2,   1.5,  30. ],\n",
       "       [265.6,  20. ,   0.3],\n",
       "       [ 95.7,   1.4,   7.4],\n",
       "       [290.7,   4.1,   8.5],\n",
       "       [266.9,  43.8,   5. ],\n",
       "       [ 74.7,  49.4,  45.7],\n",
       "       [ 43.1,  26.7,  35.1],\n",
       "       [228. ,  37.7,  32. ],\n",
       "       [202.5,  22.3,  31.6],\n",
       "       [177. ,  33.4,  38.7],\n",
       "       [293.6,  27.7,   1.8],\n",
       "       [206.9,   8.4,  26.4],\n",
       "       [ 25.1,  25.7,  43.3],\n",
       "       [175.1,  22.5,  31.5],\n",
       "       [ 89.7,   9.9,  35.7],\n",
       "       [239.9,  41.5,  18.5],\n",
       "       [227.2,  15.8,  49.9],\n",
       "       [ 66.9,  11.7,  36.8],\n",
       "       [199.8,   3.1,  34.6],\n",
       "       [100.4,   9.6,   3.6],\n",
       "       [216.4,  41.7,  39.6],\n",
       "       [182.6,  46.2,  58.7],\n",
       "       [262.7,  28.8,  15.9],\n",
       "       [198.9,  49.4,  60. ],\n",
       "       [  7.3,  28.1,  41.4],\n",
       "       [136.2,  19.2,  16.6],\n",
       "       [210.8,  49.6,  37.7],\n",
       "       [210.7,  29.5,   9.3],\n",
       "       [ 53.5,   2. ,  21.4],\n",
       "       [261.3,  42.7,  54.7],\n",
       "       [239.3,  15.5,  27.3],\n",
       "       [102.7,  29.6,   8.4],\n",
       "       [131.1,  42.8,  28.9],\n",
       "       [ 69. ,   9.3,   0.9],\n",
       "       [ 31.5,  24.6,   2.2],\n",
       "       [139.3,  14.5,  10.2],\n",
       "       [237.4,  27.5,  11. ],\n",
       "       [216.8,  43.9,  27.2],\n",
       "       [199.1,  30.6,  38.7],\n",
       "       [109.8,  14.3,  31.7],\n",
       "       [ 26.8,  33. ,  19.3],\n",
       "       [129.4,   5.7,  31.3],\n",
       "       [213.4,  24.6,  13.1],\n",
       "       [ 16.9,  43.7,  89.4],\n",
       "       [ 27.5,   1.6,  20.7],\n",
       "       [120.5,  28.5,  14.2],\n",
       "       [  5.4,  29.9,   9.4],\n",
       "       [116. ,   7.7,  23.1],\n",
       "       [ 76.4,  26.7,  22.3],\n",
       "       [239.8,   4.1,  36.9],\n",
       "       [ 75.3,  20.3,  32.5],\n",
       "       [ 68.4,  44.5,  35.6],\n",
       "       [213.5,  43. ,  33.8],\n",
       "       [193.2,  18.4,  65.7],\n",
       "       [ 76.3,  27.5,  16. ],\n",
       "       [110.7,  40.6,  63.2],\n",
       "       [ 88.3,  25.5,  73.4],\n",
       "       [109.8,  47.8,  51.4],\n",
       "       [134.3,   4.9,   9.3],\n",
       "       [ 28.6,   1.5,  33. ],\n",
       "       [217.7,  33.5,  59. ],\n",
       "       [250.9,  36.5,  72.3],\n",
       "       [107.4,  14. ,  10.9],\n",
       "       [163.3,  31.6,  52.9],\n",
       "       [197.6,   3.5,   5.9],\n",
       "       [184.9,  21. ,  22. ],\n",
       "       [289.7,  42.3,  51.2],\n",
       "       [135.2,  41.7,  45.9],\n",
       "       [222.4,   4.3,  49.8],\n",
       "       [296.4,  36.3, 100.9],\n",
       "       [280.2,  10.1,  21.4],\n",
       "       [187.9,  17.2,  17.9],\n",
       "       [238.2,  34.3,   5.3],\n",
       "       [137.9,  46.4,  59. ],\n",
       "       [ 25. ,  11. ,  29.7],\n",
       "       [ 90.4,   0.3,  23.2],\n",
       "       [ 13.1,   0.4,  25.6],\n",
       "       [255.4,  26.9,   5.5],\n",
       "       [225.8,   8.2,  56.5],\n",
       "       [241.7,  38. ,  23.2],\n",
       "       [175.7,  15.4,   2.4],\n",
       "       [209.6,  20.6,  10.7],\n",
       "       [ 78.2,  46.8,  34.5],\n",
       "       [ 75.1,  35. ,  52.7],\n",
       "       [139.2,  14.3,  25.6],\n",
       "       [ 76.4,   0.8,  14.8],\n",
       "       [125.7,  36.9,  79.2],\n",
       "       [ 19.4,  16. ,  22.3],\n",
       "       [141.3,  26.8,  46.2],\n",
       "       [ 18.8,  21.7,  50.4],\n",
       "       [224. ,   2.4,  15.6],\n",
       "       [123.1,  34.6,  12.4],\n",
       "       [229.5,  32.3,  74.2],\n",
       "       [ 87.2,  11.8,  25.9],\n",
       "       [  7.8,  38.9,  50.6],\n",
       "       [ 80.2,   0. ,   9.2],\n",
       "       [220.3,  49. ,   3.2],\n",
       "       [ 59.6,  12. ,  43.1],\n",
       "       [  0.7,  39.6,   8.7],\n",
       "       [265.2,   2.9,  43. ],\n",
       "       [  8.4,  27.2,   2.1],\n",
       "       [219.8,  33.5,  45.1],\n",
       "       [ 36.9,  38.6,  65.6],\n",
       "       [ 48.3,  47. ,   8.5],\n",
       "       [ 25.6,  39. ,   9.3],\n",
       "       [273.7,  28.9,  59.7],\n",
       "       [ 43. ,  25.9,  20.5],\n",
       "       [184.9,  43.9,   1.7],\n",
       "       [ 73.4,  17. ,  12.9],\n",
       "       [193.7,  35.4,  75.6],\n",
       "       [220.5,  33.2,  37.9],\n",
       "       [104.6,   5.7,  34.4],\n",
       "       [ 96.2,  14.8,  38.9],\n",
       "       [140.3,   1.9,   9. ],\n",
       "       [240.1,   7.3,   8.7],\n",
       "       [243.2,  49. ,  44.3],\n",
       "       [ 38. ,  40.3,  11.9],\n",
       "       [ 44.7,  25.8,  20.6],\n",
       "       [280.7,  13.9,  37. ],\n",
       "       [121. ,   8.4,  48.7],\n",
       "       [197.6,  23.3,  14.2],\n",
       "       [171.3,  39.7,  37.7],\n",
       "       [187.8,  21.1,   9.5],\n",
       "       [  4.1,  11.6,   5.7],\n",
       "       [ 93.9,  43.5,  50.5],\n",
       "       [149.8,   1.3,  24.3],\n",
       "       [ 11.7,  36.9,  45.2],\n",
       "       [131.7,  18.4,  34.6],\n",
       "       [172.5,  18.1,  30.7],\n",
       "       [ 85.7,  35.8,  49.3],\n",
       "       [188.4,  18.1,  25.6],\n",
       "       [163.5,  36.8,   7.4],\n",
       "       [117.2,  14.7,   5.4],\n",
       "       [234.5,   3.4,  84.8],\n",
       "       [ 17.9,  37.6,  21.6],\n",
       "       [206.8,   5.2,  19.4],\n",
       "       [215.4,  23.6,  57.6],\n",
       "       [284.3,  10.6,   6.4],\n",
       "       [ 50. ,  11.6,  18.4],\n",
       "       [164.5,  20.9,  47.4],\n",
       "       [ 19.6,  20.1,  17. ],\n",
       "       [168.4,   7.1,  12.8],\n",
       "       [222.4,   3.4,  13.1],\n",
       "       [276.9,  48.9,  41.8],\n",
       "       [248.4,  30.2,  20.3],\n",
       "       [170.2,   7.8,  35.2],\n",
       "       [276.7,   2.3,  23.7],\n",
       "       [165.6,  10. ,  17.6],\n",
       "       [156.6,   2.6,   8.3],\n",
       "       [218.5,   5.4,  27.4],\n",
       "       [ 56.2,   5.7,  29.7],\n",
       "       [287.6,  43. ,  71.8],\n",
       "       [253.8,  21.3,  30. ],\n",
       "       [205. ,  45.1,  19.6],\n",
       "       [139.5,   2.1,  26.6],\n",
       "       [191.1,  28.7,  18.2],\n",
       "       [286. ,  13.9,   3.7],\n",
       "       [ 18.7,  12.1,  23.4],\n",
       "       [ 39.5,  41.1,   5.8],\n",
       "       [ 75.5,  10.8,   6. ],\n",
       "       [ 17.2,   4.1,  31.6],\n",
       "       [166.8,  42. ,   3.6],\n",
       "       [149.7,  35.6,   6. ],\n",
       "       [ 38.2,   3.7,  13.8],\n",
       "       [ 94.2,   4.9,   8.1],\n",
       "       [177. ,   9.3,   6.4],\n",
       "       [283.6,  42. ,  66.2],\n",
       "       [232.1,   8.6,   8.7]])"
      ]
     },
     "execution_count": 14,
     "metadata": {},
     "output_type": "execute_result"
    }
   ],
   "source": [
    "X"
   ]
  },
  {
   "cell_type": "code",
   "execution_count": 15,
   "id": "d5804ae6",
   "metadata": {},
   "outputs": [
    {
     "data": {
      "text/plain": [
       "array([22.1, 10.4,  9.3, 18.5, 12.9,  7.2, 11.8, 13.2,  4.8, 10.6,  8.6,\n",
       "       17.4,  9.2,  9.7, 19. , 22.4, 12.5, 24.4, 11.3, 14.6, 18. , 12.5,\n",
       "        5.6, 15.5,  9.7, 12. , 15. , 15.9, 18.9, 10.5, 21.4, 11.9,  9.6,\n",
       "       17.4,  9.5, 12.8, 25.4, 14.7, 10.1, 21.5, 16.6, 17.1, 20.7, 12.9,\n",
       "        8.5, 14.9, 10.6, 23.2, 14.8,  9.7, 11.4, 10.7, 22.6, 21.2, 20.2,\n",
       "       23.7,  5.5, 13.2, 23.8, 18.4,  8.1, 24.2, 15.7, 14. , 18. ,  9.3,\n",
       "        9.5, 13.4, 18.9, 22.3, 18.3, 12.4,  8.8, 11. , 17. ,  8.7,  6.9,\n",
       "       14.2,  5.3, 11. , 11.8, 12.3, 11.3, 13.6, 21.7, 15.2, 12. , 16. ,\n",
       "       12.9, 16.7, 11.2,  7.3, 19.4, 22.2, 11.5, 16.9, 11.7, 15.5, 25.4,\n",
       "       17.2, 11.7, 23.8, 14.8, 14.7, 20.7, 19.2,  7.2,  8.7,  5.3, 19.8,\n",
       "       13.4, 21.8, 14.1, 15.9, 14.6, 12.6, 12.2,  9.4, 15.9,  6.6, 15.5,\n",
       "        7. , 11.6, 15.2, 19.7, 10.6,  6.6,  8.8, 24.7,  9.7,  1.6, 12.7,\n",
       "        5.7, 19.6, 10.8, 11.6,  9.5, 20.8,  9.6, 20.7, 10.9, 19.2, 20.1,\n",
       "       10.4, 11.4, 10.3, 13.2, 25.4, 10.9, 10.1, 16.1, 11.6, 16.6, 19. ,\n",
       "       15.6,  3.2, 15.3, 10.1,  7.3, 12.9, 14.4, 13.3, 14.9, 18. , 11.9,\n",
       "       11.9,  8. , 12.2, 17.1, 15. ,  8.4, 14.5,  7.6, 11.7, 11.5, 27. ,\n",
       "       20.2, 11.7, 11.8, 12.6, 10.5, 12.2,  8.7, 26.2, 17.6, 22.6, 10.3,\n",
       "       17.3, 15.9,  6.7, 10.8,  9.9,  5.9, 19.6, 17.3,  7.6,  9.7, 12.8,\n",
       "       25.5, 13.4])"
      ]
     },
     "execution_count": 15,
     "metadata": {},
     "output_type": "execute_result"
    }
   ],
   "source": [
    "Y"
   ]
  },
  {
   "cell_type": "markdown",
   "id": "2c2f63b4",
   "metadata": {},
   "source": [
    "### Fitting Model"
   ]
  },
  {
   "cell_type": "code",
   "execution_count": 16,
   "id": "e8c5590d",
   "metadata": {},
   "outputs": [],
   "source": [
    "from sklearn.model_selection import train_test_split as tts\n",
    "X_train,X_test,Y_train,Y_test=tts(X,Y,test_size=0.2)"
   ]
  },
  {
   "cell_type": "code",
   "execution_count": 17,
   "id": "4892a1cb",
   "metadata": {},
   "outputs": [],
   "source": [
    "from sklearn.preprocessing import StandardScaler\n",
    "ss=StandardScaler()\n",
    "X_train=ss.fit_transform(X_train)\n",
    "# Y_train=ss.fit_transform(X_train)\n",
    "X_test=ss.fit_transform(X_test)"
   ]
  },
  {
   "cell_type": "code",
   "execution_count": 18,
   "id": "96b8f934",
   "metadata": {},
   "outputs": [
    {
     "data": {
      "text/plain": [
       "array([[-1.50585391, -1.27252492,  0.06879472],\n",
       "       [-0.7733435 , -1.54810142, -0.95939656],\n",
       "       [-0.8279911 , -0.82219258, -1.10628103],\n",
       "       [ 1.26373306,  0.2599493 , -1.12923173],\n",
       "       [-1.47794875, -0.19710441, -0.60136567],\n",
       "       [ 0.44401903, -0.13661201, -0.37185869],\n",
       "       [-0.69195346, -0.7549788 , -0.19284324],\n",
       "       [-1.01286278, -0.74153604,  0.59666077],\n",
       "       [ 0.6672603 ,  0.66323199,  0.72977482],\n",
       "       [ 1.34861125,  0.38765548, -0.6518572 ],\n",
       "       [-0.70939418,  0.85815196,  0.88124943],\n",
       "       [ 0.41727659,  1.55717528,  1.31272256],\n",
       "       [ 1.08583767, -1.05744082, -0.98234726],\n",
       "       [-0.12222314, -0.25759682, -0.61972623],\n",
       "       [ 0.83469125, -1.185147  , -0.12399115],\n",
       "       [ 1.61952383, -0.61382986, -1.21185424],\n",
       "       [-0.81752667,  0.24650654, -0.35808827],\n",
       "       [ 0.51610736,  0.38093411, -0.54628399],\n",
       "       [ 1.02072564, -1.31957457,  2.510749  ],\n",
       "       [ 0.88003713, -1.25908216,  0.90420013],\n",
       "       [ 0.94863731, -0.41218852, -0.17907282],\n",
       "       [ 0.59168383, -1.31285319, -1.11087117],\n",
       "       [ 0.88003713, -1.31957457, -0.78038111],\n",
       "       [ 0.5661041 ,  1.65799596,  1.04649446],\n",
       "       [ 0.05567224,  1.22782775,  1.30354228],\n",
       "       [-0.29895581, -0.98350566,  0.85370859],\n",
       "       [ 0.7451622 ,  1.78570214,  0.34879324],\n",
       "       [-0.58730911, -0.55333746,  0.40387491],\n",
       "       [-0.1815216 ,  1.32864843, -0.05513905],\n",
       "       [-0.92798459, -0.76170018,  0.30748198],\n",
       "       [ 0.83352853,  0.31372033,  1.06944516],\n",
       "       [ 0.61726356, -1.3397387 ,  0.20649891],\n",
       "       [-1.12448341, -0.76842156, -0.53710371],\n",
       "       [-0.51173264,  0.44142651, -0.99611768],\n",
       "       [ 1.18234301,  0.48175478, -0.44989106],\n",
       "       [ 0.7765555 ,  1.34209118,  0.16977779],\n",
       "       [ 1.66254428,  1.29504154,  0.96846208],\n",
       "       [-0.91752015,  0.91192298,  3.85106977],\n",
       "       [-1.24656848,  1.214385  , -1.11546131],\n",
       "       [ 1.59161867,  1.2748774 ,  1.65698303],\n",
       "       [-0.13385029,  1.25471327,  0.72518468],\n",
       "       [ 1.39744528,  1.39586221, -1.15218242],\n",
       "       [-1.26168377, -1.29941043, -0.74825014],\n",
       "       [ 0.54633795,  0.83126644,  2.08845615],\n",
       "       [ 1.24512962, -0.11644788, -0.00464752],\n",
       "       [ 0.84980654,  0.70356026,  0.68846357],\n",
       "       [-0.57219382, -1.03727668, -1.05119935],\n",
       "       [-1.08378839, -1.41367386, -0.39939952],\n",
       "       [-0.61056341, -1.21875389, -1.00988809],\n",
       "       [ 0.69981632, -0.98350566, -0.16989254],\n",
       "       [-0.7965978 ,  1.59750355,  0.20190877],\n",
       "       [-1.50934205,  1.38914083,  2.72189542],\n",
       "       [-0.48964106, -1.16498287,  0.19731863],\n",
       "       [-0.57568196, -1.44728075, -0.00464752],\n",
       "       [ 1.74044618,  0.89175885,  3.24976148],\n",
       "       [-1.1861073 ,  0.18601414, -0.43612064],\n",
       "       [-0.53847509, -0.90284912, -1.21644438],\n",
       "       [ 1.05444437, -1.20531114, -0.30300659],\n",
       "       [-1.56980323,  0.93208712,  0.69305371],\n",
       "       [ 1.55208636, -0.86924223, -0.39939952],\n",
       "       [-1.20587346,  0.19273552, -0.44071078],\n",
       "       [-1.39423328,  0.66995337, -0.49579246],\n",
       "       [ 0.81027424,  1.25471327,  0.43600589],\n",
       "       [ 0.2858898 ,  1.1202857 ,  0.34879324],\n",
       "       [-0.41871545,  1.18077811,  1.51927884],\n",
       "       [-0.07455183, -1.42039524, -0.96857684],\n",
       "       [-1.48027418, -0.47268092, -0.35808827],\n",
       "       [-0.83729282,  1.77225938,  0.71600441],\n",
       "       [-1.60817282,  0.28011343, -1.28529647],\n",
       "       [-0.30476938,  0.36749135, -0.72988958],\n",
       "       [-1.62096269,  0.34060584,  0.5186284 ],\n",
       "       [ 0.25217107, -1.07088357, -0.79415153],\n",
       "       [-0.35709156, -1.03055531, -0.32136715],\n",
       "       [ 0.27309994, -1.02383393,  0.23403974],\n",
       "       [ 0.81492509,  1.40258359, -0.13317143],\n",
       "       [-0.06292468,  0.25322792,  0.7389551 ],\n",
       "       [ 0.85794555,  0.68339612,  0.35797351],\n",
       "       [ 0.21961505, -0.87596361, -0.57382483],\n",
       "       [-1.55352522, -1.52121591, -0.20661366],\n",
       "       [-0.90124214, -0.1702189 , -0.54169385],\n",
       "       [-1.27679907,  1.04635054,  1.62944219],\n",
       "       [ 1.70789016,  0.31372033, -1.29906689],\n",
       "       [-1.41399943,  0.17929276,  0.60584105],\n",
       "       [-0.88496414, -0.47268092,  0.49108756],\n",
       "       [-0.81752667, -1.4943304 , -0.70234874],\n",
       "       [ 1.37767912, -1.35318146,  0.59207064],\n",
       "       [ 1.33233324,  1.32192705,  1.12911697],\n",
       "       [-0.34313898, -0.56005883, -1.13382186],\n",
       "       [ 1.06374609,  0.75733128, -1.138412  ],\n",
       "       [-0.08617898, -0.57350159, -0.91349516],\n",
       "       [ 0.61726356, -1.37334559, -0.4085798 ],\n",
       "       [-0.08734169, -0.58694435, -0.20661366],\n",
       "       [ 1.69975116,  0.35404859,  0.60125091],\n",
       "       [-0.17454531, -0.31136784,  0.20649891],\n",
       "       [-0.42917988, -0.58694435,  0.07338486],\n",
       "       [-0.98146947, -0.70120778, -0.54169385],\n",
       "       [ 0.19287261,  0.57585407,  1.04649446],\n",
       "       [ 0.44401903,  1.40258359, -1.30365703],\n",
       "       [ 0.03590609, -1.46072351, -0.26628548],\n",
       "       [-1.50585391,  1.53701115,  1.79927736],\n",
       "       [ 0.47890048, -0.39202438, -0.56005441],\n",
       "       [-1.05239509, -1.16498287, -0.01841794],\n",
       "       [ 0.6986536 , -1.19858976, -0.49120232],\n",
       "       [ 0.67772473,  1.48324012, -0.48202204],\n",
       "       [-1.60584739, -1.40695248, -1.33578801],\n",
       "       [ 0.82538953,  0.70356026,  1.32649298],\n",
       "       [ 1.47650989,  0.39437686,  1.35862395],\n",
       "       [ 0.47773776, -0.12989063, -0.94562614],\n",
       "       [-1.38609427, -1.44055937, -0.4315305 ],\n",
       "       [ 0.96956618,  0.99257952,  1.79468722],\n",
       "       [ 1.08583767, -0.42563127, -0.33054743],\n",
       "       [ 0.99282048, -0.9700629 , -0.98234726],\n",
       "       [-1.2640092 ,  1.16061397, -0.83546279],\n",
       "       [-1.48841319, -0.73481467, -0.30759673],\n",
       "       [ 0.19519804,  0.92536574, -1.04201907],\n",
       "       [ 1.08351224,  1.24127051, -0.53251357],\n",
       "       [-0.10245699,  1.57061804,  1.32649298],\n",
       "       [-1.33958567,  0.1053576 , -1.28070633],\n",
       "       [ 0.73120962, -0.16349752, -0.89054446],\n",
       "       [-0.20128776, -1.16498287,  0.0550243 ],\n",
       "       [-1.65816957, -0.76842156, -1.12005145],\n",
       "       [ 0.48471405, -0.33153198, -0.20661366],\n",
       "       [-1.69770187,  1.11356433, -0.98234726],\n",
       "       [-1.48725047, -0.08956236,  0.93174097],\n",
       "       [-0.59312269, -1.45400213, -1.04201907],\n",
       "       [ 0.54052437, -0.31136784,  1.63403233],\n",
       "       [-0.93728631, -1.15826149, -0.27087561],\n",
       "       [ 1.67417143, -1.27252492, -0.99152754],\n",
       "       [ 0.23356763,  1.2748774 , -1.21644438],\n",
       "       [ 0.60679912,  1.77225938,  1.37239437],\n",
       "       [ 0.59168383,  0.01797969, -0.72988958],\n",
       "       [ 0.11497071, -1.37334559, -1.00070782],\n",
       "       [ 1.18699387,  0.27339206, -0.33054743],\n",
       "       [-0.83264196,  0.80438093,  1.03731418],\n",
       "       [-1.03727979,  0.65651061, -0.30300659],\n",
       "       [ 0.60912455,  0.50864029,  0.39469463],\n",
       "       [-0.2745388 ,  0.77749542, -0.81251209],\n",
       "       [-1.41516214, -0.80874983, -0.01841794],\n",
       "       [-1.61514911,  1.06651468,  0.94092125],\n",
       "       [ 0.96258989,  0.62290372,  2.0241942 ],\n",
       "       [ 0.39634772, -0.82219258,  1.29895214],\n",
       "       [ 1.63812727,  1.34209118,  1.91403085],\n",
       "       [ 0.33704926, -0.51300919, -1.27152605],\n",
       "       [ 1.07653595, -0.50628781, -0.12858129],\n",
       "       [-0.42917988,  1.66471733,  0.97764236],\n",
       "       [-0.91054386,  1.44291185,  0.2524003 ],\n",
       "       [ 0.79050808,  0.06502933, -1.19808382],\n",
       "       [ 0.35216455, -0.92301325, -1.08792047],\n",
       "       [-1.20471074,  0.24650654,  0.2294496 ],\n",
       "       [ 0.03474338,  0.8447092 , -1.10628103],\n",
       "       [ 0.94514917,  0.98585814,  0.08715528],\n",
       "       [-1.14424957,  1.61094631, -0.99152754],\n",
       "       [-0.83031653, -0.18366166,  0.11010597],\n",
       "       [ 1.05444437,  0.30027757, -0.87677405],\n",
       "       [ 1.38232998, -0.20382579, -1.36791899],\n",
       "       [ 1.56603894,  1.11356433,  1.17960851],\n",
       "       [-0.66288558, -0.88268499,  0.25699044],\n",
       "       [-1.37330441, -1.44728075,  0.13305667],\n",
       "       [ 0.93584745, -0.48612367,  0.90879027],\n",
       "       [ 1.59975767, -0.83563534, -1.08792047]])"
      ]
     },
     "execution_count": 18,
     "metadata": {},
     "output_type": "execute_result"
    }
   ],
   "source": [
    "X_train"
   ]
  },
  {
   "cell_type": "code",
   "execution_count": 19,
   "id": "4e13407d",
   "metadata": {},
   "outputs": [
    {
     "data": {
      "text/plain": [
       "array([[ 0.77288915,  0.0282827 , -0.90108526],\n",
       "       [-0.94318978, -1.02714476, -1.47171802],\n",
       "       [ 0.64335134, -0.13037633, -0.03578148],\n",
       "       [ 0.28682524, -0.42010152, -0.07787734],\n",
       "       [ 1.36115721, -1.42724144, -0.60173692],\n",
       "       [-0.64727313,  1.33204602,  0.84823157],\n",
       "       [-0.16715132, -1.33066638, -1.07882333],\n",
       "       [-1.6990251 ,  0.39388829, -1.07414601],\n",
       "       [ 0.85489015,  1.71144805, -1.36413971],\n",
       "       [-0.68886784, -1.64798444, -0.42867617],\n",
       "       [ 1.52753605,  1.70454983,  0.44130493],\n",
       "       [ 1.08663212, -1.38585213,  0.21211636],\n",
       "       [-0.42147327, -0.46838905,  0.29163076],\n",
       "       [-1.60632832, -0.57186233,  0.80613571],\n",
       "       [-0.71382466,  0.09036666,  1.91933733],\n",
       "       [-1.4589642 ,  1.02162618, -1.07882333],\n",
       "       [-0.89089929, -0.49598192, -0.91043989],\n",
       "       [ 0.92025327, -1.10302516,  1.12887063],\n",
       "       [-0.01265668, -0.02000483, -0.6204462 ],\n",
       "       [-1.48035577,  0.75259566,  1.5685385 ],\n",
       "       [ 1.12703841,  1.71144805,  0.55823787],\n",
       "       [-0.10535346, -1.5238165 , -0.26964737],\n",
       "       [-0.33471858, -0.31662824, -0.97124502],\n",
       "       [ 1.21854677,  0.84917072,  1.86788683],\n",
       "       [ 1.1092121 ,  0.952644  , -0.42867617],\n",
       "       [ 0.34030416,  0.63532594,  0.29630808],\n",
       "       [-0.26935546,  0.87676359,  2.19062175],\n",
       "       [-0.8564351 ,  0.22833104, -0.76544304],\n",
       "       [ 1.52515921, -1.51002006, -0.40528958],\n",
       "       [ 0.7408018 ,  0.36629541, -1.07882333],\n",
       "       [ 0.31772417, -0.1165799 , -0.0404588 ],\n",
       "       [-1.55047257,  0.92505112, -0.50351325],\n",
       "       [ 0.79665756, -0.04069949,  1.18032113],\n",
       "       [-0.06494717,  0.35249897, -0.92447185],\n",
       "       [ 0.19175162, -0.22695139,  0.70323472],\n",
       "       [ 1.57269603, -0.7098267 ,  0.21679368],\n",
       "       [-1.65980723,  1.70454983,  1.99417441],\n",
       "       [-1.23435276,  1.04232084,  0.59565641],\n",
       "       [-0.48683638, -0.70292848, -1.00398625],\n",
       "       [ 0.89886171, -1.50312184, -0.78415232]])"
      ]
     },
     "execution_count": 19,
     "metadata": {},
     "output_type": "execute_result"
    }
   ],
   "source": [
    "X_test"
   ]
  },
  {
   "cell_type": "code",
   "execution_count": 20,
   "id": "a48ccf73",
   "metadata": {},
   "outputs": [
    {
     "data": {
      "text/plain": [
       "array([ 5.9,  8.8,  9.9, 19.8,  7.6, 15.5, 10.6,  9.7, 19. , 20.2, 13.3,\n",
       "       21.2, 13.2, 13.2, 12.2, 15.9, 11.8, 17.3, 11.9, 11.7, 15.5, 11.7,\n",
       "       11.5, 22.4, 18.5, 11.6, 23.8, 11.4, 18. ,  9.7, 18. , 11.4,  8.4,\n",
       "       14. , 20.2, 21.7, 25.4, 12.5, 10.8, 25.5, 17.2, 25.4,  7.6, 19.2,\n",
       "       17.6, 19.6,  9.7,  8.1,  9.7, 12.9, 14.6,  8.7, 10.4,  9.6, 23.8,\n",
       "       10.1, 10.7, 12.5,  7.3, 14.8,  9.6,  8.8, 22.6, 19. , 16. , 10.3,\n",
       "        6.6, 14.7,  5.7, 14.2,  5.5, 11.7, 11. , 11.7, 22.3, 15.5, 20.1,\n",
       "       12.6,  5.3, 11.3, 10.8, 20.7,  8.5, 10.5,  9.4, 12.7, 24.2, 11.9,\n",
       "       20.7, 13.4, 10.6, 12.2, 21.4, 12.9, 12.4,  9.7, 16.9, 20.7, 10.1,\n",
       "        9.3, 14.7,  8.7, 12.2, 22.6,  4.8, 19.4, 20.8, 15.6,  6.9, 22.1,\n",
       "       15.9, 13.4, 10.9,  6.7, 18. , 23.2, 19.2,  9.5, 15.9, 11. ,  3.2,\n",
       "       14.9,  1.6,  7. ,  9.5, 15.2,  8.6, 12.8, 19.6, 23.7, 16.6, 10.5,\n",
       "       18.9, 12.6, 11.8, 18.3, 15.2,  7.2,  6.6, 19.7, 12.9, 26.2, 14.1,\n",
       "       15.7, 16.7, 13.6, 17.4, 12.8, 10.1, 17.3, 21.5, 11.6, 11.3, 18.9,\n",
       "       17.4, 24.4, 10.6,  7.3, 14.8, 15. ])"
      ]
     },
     "execution_count": 20,
     "metadata": {},
     "output_type": "execute_result"
    }
   ],
   "source": [
    "Y_train"
   ]
  },
  {
   "cell_type": "code",
   "execution_count": 21,
   "id": "5c3721d9",
   "metadata": {},
   "outputs": [
    {
     "data": {
      "text/plain": [
       "array([17. ,  9.3, 16.6, 14.4, 12. , 15.3, 11.2,  5.3, 24.7,  8.7, 27. ,\n",
       "       12.3, 11.9,  5.6, 12.9,  9.5, 10.9, 13.4, 14.6,  9.2, 25.4, 10.3,\n",
       "       13.2, 22.2, 21.8, 17.1, 15.9, 12. , 11.8, 18.4, 14.9,  8. , 17.1,\n",
       "       15. , 14.5, 16.1,  7.2, 10.4, 11.5, 11.6])"
      ]
     },
     "execution_count": 21,
     "metadata": {},
     "output_type": "execute_result"
    }
   ],
   "source": [
    "Y_test"
   ]
  },
  {
   "cell_type": "code",
   "execution_count": 22,
   "id": "86ce209f",
   "metadata": {},
   "outputs": [
    {
     "data": {
      "text/plain": [
       "LinearRegression()"
      ]
     },
     "execution_count": 22,
     "metadata": {},
     "output_type": "execute_result"
    }
   ],
   "source": [
    "from sklearn.linear_model import LinearRegression\n",
    "LR=LinearRegression()\n",
    "LR.fit(X_train,Y_train)"
   ]
  },
  {
   "cell_type": "code",
   "execution_count": 23,
   "id": "fee28fa8",
   "metadata": {},
   "outputs": [],
   "source": [
    "Y_pred=LR.predict(X_test)"
   ]
  },
  {
   "cell_type": "code",
   "execution_count": 24,
   "id": "e8d01a1d",
   "metadata": {},
   "outputs": [
    {
     "name": "stdout",
     "output_type": "stream",
     "text": [
      "17.056520348996155 17.0\n",
      "7.4831854646375975 9.3\n",
      "16.184087097927936 16.6\n",
      "14.008072166901906 14.4\n",
      "15.37598501104515 12.0\n",
      "15.249900356537218 15.3\n",
      "9.686976756736478 11.2\n",
      "8.471305225244379 5.3\n",
      "21.943247552952563 24.7\n",
      "6.846274013104253 8.7\n",
      "24.660804219446725 27.0\n",
      "14.485412355514674 12.3\n",
      "11.160092554552392 11.9\n",
      "6.326315798802168 5.6\n",
      "11.674656435272201 12.9\n",
      "11.117262695594023 9.5\n",
      "9.17916325419007 10.9\n",
      "14.681392053327965 13.4\n",
      "13.902924033851988 14.6\n",
      "10.491704955267412 9.2\n",
      "23.13727759496486 25.4\n",
      "9.457071132978339 10.3\n",
      "11.819001359263757 13.2\n",
      "21.22905370106781 22.2\n",
      "20.921203515789788 21.8\n",
      "17.128714762596502 17.1\n",
      "15.56618062593234 15.9\n",
      "11.303967755601775 12.0\n",
      "15.799025339370537 11.8\n",
      "17.843666165883405 18.4\n",
      "14.960493225766912 14.9\n",
      "10.540736997700694 8.0\n",
      "17.11165494231623 17.1\n",
      "14.696949724744265 15.0\n",
      "14.22505230396132 14.5\n",
      "18.216742890434507 16.1\n",
      "12.431114619351204 7.2\n",
      "12.165729228213804 10.4\n",
      "10.171130671135497 11.5\n",
      "13.364951093023292 11.6\n"
     ]
    }
   ],
   "source": [
    "for i in range(len(X_test)):\n",
    "    print(Y_pred[i],Y_test[i])"
   ]
  },
  {
   "cell_type": "code",
   "execution_count": 25,
   "id": "af02498b",
   "metadata": {},
   "outputs": [
    {
     "name": "stdout",
     "output_type": "stream",
     "text": [
      "86.76558895156799\n"
     ]
    }
   ],
   "source": [
    "from sklearn.metrics import r2_score,accuracy_score\n",
    "print(r2_score(Y_test,Y_pred)*100)\n"
   ]
  },
  {
   "cell_type": "markdown",
   "id": "c2dae456",
   "metadata": {},
   "source": [
    "### Testing Own Data"
   ]
  },
  {
   "cell_type": "code",
   "execution_count": 26,
   "id": "a1d37507",
   "metadata": {},
   "outputs": [
    {
     "data": {
      "text/plain": [
       "array([14.051875])"
      ]
     },
     "execution_count": 26,
     "metadata": {},
     "output_type": "execute_result"
    }
   ],
   "source": [
    "X_own=[[220,  35,  10]]\n",
    "X_own=ss.fit_transform(X_own)\n",
    "Y_own=LR.predict(X_own)\n",
    "Y_own"
   ]
  },
  {
   "cell_type": "code",
   "execution_count": null,
   "id": "91ebbd9a",
   "metadata": {},
   "outputs": [],
   "source": []
  }
 ],
 "metadata": {
  "kernelspec": {
   "display_name": "Python 3",
   "language": "python",
   "name": "python3"
  },
  "language_info": {
   "codemirror_mode": {
    "name": "ipython",
    "version": 3
   },
   "file_extension": ".py",
   "mimetype": "text/x-python",
   "name": "python",
   "nbconvert_exporter": "python",
   "pygments_lexer": "ipython3",
   "version": "3.8.8"
  }
 },
 "nbformat": 4,
 "nbformat_minor": 5
}
